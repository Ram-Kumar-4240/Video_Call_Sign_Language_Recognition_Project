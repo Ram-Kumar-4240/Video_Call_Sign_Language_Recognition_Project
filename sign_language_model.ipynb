{
 "cells": [
  {
   "cell_type": "code",
   "execution_count": 5,
   "metadata": {},
   "outputs": [
    {
     "name": "stdout",
     "output_type": "stream",
     "text": [
      "Collecting keras-utils\n",
      "  Downloading keras-utils-1.0.13.tar.gz (2.4 kB)\n",
      "  Preparing metadata (setup.py): started\n",
      "  Preparing metadata (setup.py): finished with status 'done'\n",
      "Requirement already satisfied: Keras>=2.1.5 in c:\\users\\infog\\appdata\\local\\programs\\python\\python312\\lib\\site-packages (from keras-utils) (3.4.1)\n",
      "Requirement already satisfied: absl-py in c:\\users\\infog\\appdata\\local\\programs\\python\\python312\\lib\\site-packages (from Keras>=2.1.5->keras-utils) (2.1.0)\n",
      "Requirement already satisfied: numpy in c:\\users\\infog\\appdata\\local\\programs\\python\\python312\\lib\\site-packages (from Keras>=2.1.5->keras-utils) (1.26.4)\n",
      "Requirement already satisfied: rich in c:\\users\\infog\\appdata\\local\\programs\\python\\python312\\lib\\site-packages (from Keras>=2.1.5->keras-utils) (13.7.1)\n",
      "Requirement already satisfied: namex in c:\\users\\infog\\appdata\\local\\programs\\python\\python312\\lib\\site-packages (from Keras>=2.1.5->keras-utils) (0.0.8)\n",
      "Requirement already satisfied: h5py in c:\\users\\infog\\appdata\\local\\programs\\python\\python312\\lib\\site-packages (from Keras>=2.1.5->keras-utils) (3.11.0)\n",
      "Requirement already satisfied: optree in c:\\users\\infog\\appdata\\local\\programs\\python\\python312\\lib\\site-packages (from Keras>=2.1.5->keras-utils) (0.12.1)\n",
      "Requirement already satisfied: ml-dtypes in c:\\users\\infog\\appdata\\local\\programs\\python\\python312\\lib\\site-packages (from Keras>=2.1.5->keras-utils) (0.4.0)\n",
      "Requirement already satisfied: packaging in c:\\users\\infog\\appdata\\local\\programs\\python\\python312\\lib\\site-packages (from Keras>=2.1.5->keras-utils) (24.1)\n",
      "Requirement already satisfied: typing-extensions>=4.5.0 in c:\\users\\infog\\appdata\\local\\programs\\python\\python312\\lib\\site-packages (from optree->Keras>=2.1.5->keras-utils) (4.12.2)\n",
      "Requirement already satisfied: markdown-it-py>=2.2.0 in c:\\users\\infog\\appdata\\local\\programs\\python\\python312\\lib\\site-packages (from rich->Keras>=2.1.5->keras-utils) (3.0.0)\n",
      "Requirement already satisfied: pygments<3.0.0,>=2.13.0 in c:\\users\\infog\\appdata\\local\\programs\\python\\python312\\lib\\site-packages (from rich->Keras>=2.1.5->keras-utils) (2.18.0)\n",
      "Requirement already satisfied: mdurl~=0.1 in c:\\users\\infog\\appdata\\local\\programs\\python\\python312\\lib\\site-packages (from markdown-it-py>=2.2.0->rich->Keras>=2.1.5->keras-utils) (0.1.2)\n",
      "Building wheels for collected packages: keras-utils\n",
      "  Building wheel for keras-utils (setup.py): started\n",
      "  Building wheel for keras-utils (setup.py): finished with status 'done'\n",
      "  Created wheel for keras-utils: filename=keras_utils-1.0.13-py3-none-any.whl size=2654 sha256=826b860bc58d8f02e3b5938c2048b85c6fd27527aa8a4b4eeab64313fd12cedc\n",
      "  Stored in directory: c:\\users\\infog\\appdata\\local\\pip\\cache\\wheels\\04\\e4\\c5\\8eda37877405e9629bdb31de4ae348a0a7386382d7c3eb5975\n",
      "Successfully built keras-utils\n",
      "Installing collected packages: keras-utils\n",
      "Successfully installed keras-utils-1.0.13\n"
     ]
    },
    {
     "name": "stderr",
     "output_type": "stream",
     "text": [
      "\n",
      "[notice] A new release of pip is available: 24.2 -> 24.3.1\n",
      "[notice] To update, run: python.exe -m pip install --upgrade pip\n"
     ]
    }
   ],
   "source": [
    "!pip install keras-utils"
   ]
  },
  {
   "cell_type": "code",
   "execution_count": null,
   "metadata": {},
   "outputs": [],
   "source": [
    "import numpy as np\n",
    "import os\n",
    "from sklearn.model_selection import train_test_split\n",
    "import tensorflow as tf\n",
    "\n",
    "# Path to keypoints directory\n",
    "keypoints_dir = \"video_key_points\"\n",
    "\n",
    "# Load dataset\n",
    "def load_keypoints(keypoints_dir):\n",
    "    data, labels = [], []\n",
    "    label_map = {}  # Mapping gloss to numeric label\n",
    "    current_label = 0\n",
    "    \n",
    "    for split_dir in os.listdir(keypoints_dir):\n",
    "        split_path = os.path.join(keypoints_dir, split_dir)\n",
    "        for gloss in os.listdir(split_path):\n",
    "            gloss_path = os.path.join(split_path, gloss)\n",
    "            if gloss not in label_map:\n",
    "                label_map[gloss] = current_label\n",
    "                current_label += 1\n",
    "\n",
    "            for npz_file in os.listdir(os.path.join(gloss_path)):\n",
    "                npz_path = os.path.join(gloss_path, npz_file)\n",
    "                keypoints = np.load(npz_path)[\"keypoints\"]\n",
    "                data.append(keypoints)\n",
    "                labels.append(label_map[gloss])\n",
    "\n",
    "    return np.array(data, dtype=object), np.array(labels), label_map\n",
    "\n",
    "data, labels, label_map = load_keypoints(keypoints_dir)\n",
    "\n",
    "# Pad sequences to ensure equal length\n",
    "from tensorflow.keras.preprocessing.sequence import pad_sequences\n",
    "\n",
    "MAX_SEQ_LENGTH = 50  # Define max sequence length\n",
    "INPUT_DIM = data[0].shape[1] if len(data) > 0 else 0  # Dimensionality of keypoints\n",
    "\n",
    "data_padded = pad_sequences(data, maxlen=MAX_SEQ_LENGTH, dtype=\"float32\", padding=\"post\", truncating=\"post\")\n",
    "\n",
    "# One-hot encode labels\n",
    "from tensorflow.keras.utils import to_categorical\n",
    "\n",
    "labels_categorical = to_categorical(labels, num_classes=len(label_map))\n"
   ]
  },
  {
   "cell_type": "code",
   "execution_count": 14,
   "metadata": {},
   "outputs": [],
   "source": [
    "MAX_SEQ_LENGTH = 50  # Define max sequence length\n",
    "INPUT_DIM = data[0].shape[1] if len(data) > 0 else 0  # Dimensionality of keypoints\n",
    "\n",
    "data_padded = pad_sequences(data, maxlen=MAX_SEQ_LENGTH, dtype=\"float32\", padding=\"post\", truncating=\"post\")\n",
    "\n",
    "# One-hot encode labels\n",
    "from tensorflow.keras.utils import to_categorical\n",
    "\n",
    "labels_categorical = to_categorical(labels, num_classes=len(label_map))"
   ]
  },
  {
   "cell_type": "code",
   "execution_count": 15,
   "metadata": {},
   "outputs": [],
   "source": [
    "# Train-validation-test split\n",
    "X_train, X_temp, y_train, y_temp = train_test_split(data_padded, labels_categorical, test_size=0.2, random_state=42)\n",
    "X_val, X_test, y_val, y_test = train_test_split(X_temp, y_temp, test_size=0.5, random_state=42)\n"
   ]
  }
 ],
 "metadata": {
  "kernelspec": {
   "display_name": "Python 3",
   "language": "python",
   "name": "python3"
  },
  "language_info": {
   "codemirror_mode": {
    "name": "ipython",
    "version": 3
   },
   "file_extension": ".py",
   "mimetype": "text/x-python",
   "name": "python",
   "nbconvert_exporter": "python",
   "pygments_lexer": "ipython3",
   "version": "3.12.4"
  }
 },
 "nbformat": 4,
 "nbformat_minor": 2
}
